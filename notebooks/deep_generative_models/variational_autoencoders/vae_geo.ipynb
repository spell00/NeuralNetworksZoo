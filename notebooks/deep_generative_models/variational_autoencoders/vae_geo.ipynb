{
 "cells": [
  {
   "cell_type": "markdown",
   "metadata": {},
   "source": [
    "Why semi-supervised learning?"
   ]
  },
  {
   "cell_type": "raw",
   "metadata": {},
   "source": []
  },
  {
   "cell_type": "raw",
   "metadata": {},
   "source": []
  },
  {
   "cell_type": "markdown",
   "metadata": {},
   "source": [
    "https://stats.stackexchange.com/questions/321841/what-are-variational-autoencoders-and-to-what-learning-tasks-are-they-used\n",
    "\n",
    "Ideal parameters:\n",
    "$$ \\min_{\\boldsymbol{\\lambda}}\\mathcal{D}[p(\\mathbf{z}\\vert \\mathbf{x})\\vert\\vert q(\\mathbf{z}\\vert \\mathbf{x},\\boldsymbol{\\lambda})] $$\n",
    "\n",
    "It should also minimize the reconstruction loss (and optional regularization terms, mainly L1 or L2)\n",
    "\n",
    "VAE loss function:\n",
    "$$ELBO(\\boldsymbol{\\lambda})= E_{q(\\boldsymbol{z}\\vert \\mathbf{x},\\boldsymbol{\\lambda})}[\\log p(\\mathbf{x}\\vert\\boldsymbol{z})]-\\mathcal{D}[(q(\\boldsymbol{z}\\vert \\mathbf{x},\\boldsymbol{\\lambda})\\vert\\vert p(\\boldsymbol{z})]$$\n",
    "\n",
    "$$ q(\\mathbf{z}\\vert \\mathbf{x},\\boldsymbol{\\lambda}) = \\mathcal{N}(\\mathbf{z}\\vert\\boldsymbol{\\mu}(\\mathbf{x}), \\boldsymbol{\\sigma}^2(\\mathbf{x})I) $$\n",
    "\n",
    "conditional distribution:\n",
    "$$ p_{\\boldsymbol{\\phi}}(\\mathbf{x}\\vert\\mathbf{z}) = \\mathcal{N}(\\mathbf{x}|\\boldsymbol{\\mu}(\\mathbf{z}; \\boldsymbol{\\phi}), \\boldsymbol{\\sigma}(\\mathbf{z}; \\boldsymbol{\\phi})^2I)$$\n"
   ]
  },
  {
   "cell_type": "markdown",
   "metadata": {},
   "source": [
    "$$ ELBO(\\boldsymbol{\\theta},\\boldsymbol{\\phi})= \\sum_i E_{q_{\\boldsymbol{\\theta}}(\\boldsymbol{z}\\vert \\mathbf{x}_i,\\boldsymbol{\\lambda})}[\\log p_{\\boldsymbol{\\phi}}(\\mathbf{x}_i\\vert\\boldsymbol{z})]-\\mathcal{D}[(q_{\\boldsymbol{\\theta}}(\\boldsymbol{z}\\vert \\mathbf{x}_i,\\boldsymbol{\\lambda})\\vert\\vert p(\\boldsymbol{z})] $$"
   ]
  },
  {
   "cell_type": "code",
   "execution_count": 2,
   "metadata": {
    "scrolled": false
   },
   "outputs": [
    {
     "name": "stderr",
     "output_type": "stream",
     "text": [
      "/home/simon/anaconda3/lib/python3.6/site-packages/h5py/__init__.py:36: FutureWarning: Conversion of the second argument of issubdtype from `float` to `np.floating` is deprecated. In future, it will be treated as `np.float64 == np.dtype(float).type`.\n",
      "  from ._conv import register_converters as _register_converters\n",
      "Using TensorFlow backend.\n"
     ]
    },
    {
     "name": "stdout",
     "output_type": "stream",
     "text": [
      "O-sylvester\n"
     ]
    }
   ],
   "source": [
    "from models.generative.autoencoders.vae.vae import VariationalAutoencoder\n",
    "from models.generative.autoencoders.vae.ladder_vae import LadderVariationalAutoencoder\n",
    "from models.generative.autoencoders.vae.sylvester_vae import SylvesterVAE\n",
    "from utils.utils import dict_of_int_highest_elements, plot_evaluation\n",
    "\n"
   ]
  },
  {
   "cell_type": "code",
   "execution_count": 3,
   "metadata": {
    "scrolled": false
   },
   "outputs": [],
   "source": [
    "# files_destinations\n",
    "home_path = \"/home/simon/\"\n",
    "destination_folder = \"annleukemia\"\n",
    "data_folder = \"data\"\n",
    "results_folder = \"results\"\n",
    "meta_destination_folder = \"pandas_meta_df\"\n",
    "\n",
    "plots_folder_path = \"/\".join([home_path, destination_folder, results_folder, \"plots/\"])\n"
   ]
  },
  {
   "cell_type": "code",
   "execution_count": 4,
   "metadata": {
    "scrolled": false
   },
   "outputs": [],
   "source": [
    "#dataset_name = \"gse33000_and_GSE24335_GSE44768_GSE44771_GSE44770\"\n",
    "dataset_name = \"gse33000+4\"\n",
    "geo_ids = [\"GSE33000\"]\n",
    "# Contrary to ssl, I don't also put the labelled ID in the unlabelled, as it is just redundent here\n",
    "unlabelled_geo_ids = [\"GSE33000\", \"GSE24335\", \"GSE44768\" , \"GSE44771\", \"GSE44770\"] \n",
    "activation = \"relu\"\n",
    "#nrep = 3\n",
    "betas=(0.9, 0.999)\n",
    "vae_flavour = \"o-sylvester\"\n",
    "early_stopping = 200\n",
    "labels_per_class = 0\n",
    "n_epochs = 100\n",
    "warmup = 0\n",
    "gt_input = 0\n",
    "\n",
    "# if ladder is yes builds a ladder vae. Do not combine with auxiliary (yet; might be possible and relatively \n",
    "# not too hard to implement, but might be overkill. Might be interesting too)\n",
    "translate = \"n\" \n"
   ]
  },
  {
   "cell_type": "code",
   "execution_count": 5,
   "metadata": {
    "scrolled": false
   },
   "outputs": [],
   "source": [
    "# Ladder VAE (L-VAE)\n",
    "ladder = False\n",
    "# Load pre-computed vae (unsupervised learning)\n",
    "load_vae = False\n",
    "\n"
   ]
  },
  {
   "cell_type": "code",
   "execution_count": 6,
   "metadata": {
    "scrolled": false
   },
   "outputs": [],
   "source": []
  },
  {
   "cell_type": "markdown",
   "metadata": {},
   "source": [
    "Definition of the hyper-parameters"
   ]
  },
  {
   "cell_type": "code",
   "execution_count": 7,
   "metadata": {
    "scrolled": false
   },
   "outputs": [],
   "source": [
    "lr = 1e-4\n",
    "l1 = 0.\n",
    "l2 = 0.\n",
    "batch_size = 128\n",
    "mc = 1 # seems to be a problem when mc > 1 for display only, results seem good\n",
    "iw = 1 # seems to be a problem when iw > 1 for display only, results seem good\n",
    "\n",
    "# Neurons layers\n",
    "h_dims = [128, 64]\n",
    "z_dims = [50]\n",
    "\n",
    "# number of flows\n",
    "n_combinations = 20 #could be just 1 with number_of_flows?\n",
    "number_of_flows = 8\n",
    "num_elements = 3\n",
    "\n",
    "is_example = False\n"
   ]
  },
  {
   "cell_type": "code",
   "execution_count": 8,
   "metadata": {
    "scrolled": false
   },
   "outputs": [],
   "source": [
    "bad_geo_ids = [\"\"] # Now useless, didn't work well, but stil complains without it. to be removed."
   ]
  },
  {
   "cell_type": "code",
   "execution_count": 9,
   "metadata": {
    "scrolled": false
   },
   "outputs": [],
   "source": [
    "# Files destinations\n",
    "load_from_disk = True\n",
    "load_merge = False\n",
    "home_path = \"/home/simon/\"\n",
    "destination_folder = \"annleukemia\"\n",
    "data_folder = \"data\"\n",
    "results_folder = \"results\"\n",
    "meta_destination_folder = \"pandas_meta_df\"\n",
    "plots_folder_path = \"/\".join([home_path, destination_folder, \n",
    "                              results_folder, \"plots/\"])"
   ]
  },
  {
   "cell_type": "code",
   "execution_count": 10,
   "metadata": {},
   "outputs": [
    {
     "name": "stdout",
     "output_type": "stream",
     "text": [
      "\n",
      "Running: GSE33000\n",
      "Loading GSE33000, labelled: True ...\n",
      "File found at location: /home/simon//annleukemia/data//GSE33000_labelledTrue_dataframe.pickle.npy\n",
      "self.df[geo_id] (35371, 624)\n",
      "\n",
      "Running unlabelled: GSE24335\n",
      "Loading GSE24335, labelled: False ...\n",
      "File found at location: /home/simon//annleukemia/data//GSE24335_labelledFalse_dataframe.pickle.npy\n",
      "self.unlabelled_df[geo_id] (35371, 2200)\n",
      "\n",
      "Running unlabelled: GSE44768\n",
      "Loading GSE44768, labelled: False ...\n",
      "File found at location: /home/simon//annleukemia/data//GSE44768_labelledFalse_dataframe.pickle.npy\n",
      "self.unlabelled_df[geo_id] (35371, 230)\n",
      "\n",
      "Running unlabelled: GSE44771\n",
      "Loading GSE44771, labelled: False ...\n",
      "File found at location: /home/simon//annleukemia/data//GSE44771_labelledFalse_dataframe.pickle.npy\n",
      "self.unlabelled_df[geo_id] (35371, 230)\n",
      "\n",
      "Running unlabelled: GSE44770\n",
      "Loading GSE44770, labelled: False ...\n",
      "File found at location: /home/simon//annleukemia/data//GSE44770_labelledFalse_dataframe.pickle.npy\n",
      "self.unlabelled_df[geo_id] (35371, 230)\n",
      "Preparing for merging the selected datasets... labelled: True\n",
      "The file you were looking for is there\n",
      "File found!\n",
      "merging file: 1 / 1\n",
      "(35371, 624)\n",
      "Saving files...\n",
      "Merged sets loaded.\n",
      "Preparing for merging the selected datasets... labelled: False\n",
      "The file you were looking for is there\n",
      "merging file: 1 / 4\n",
      "(35371, 2200)\n",
      "merging file: 2 / 4\n",
      "(35371, 2430)\n",
      "merging file: 3 / 4\n",
      "(35371, 2660)\n",
      "merging file: 4 / 4\n",
      "(35371, 2890)\n",
      "Saving files...\n",
      "Merged sets loaded.\n"
     ]
    }
   ],
   "source": [
    "from utils.utils import adapt_datasets\n",
    "g = GeoParser(home_path=home_path, geo_ids=geo_ids, unlabelled_geo_ids=unlabelled_geo_ids, bad_geo_ids=None)\n",
    "g.get_geo(load_from_disk=load_from_disk, automatic_attribute_list=None)\n",
    "meta_df = g.merge_datasets(load_from_disk=load_merge, labelled=True)\n",
    "unlabelled_meta_df = g.merge_datasets(load_from_disk=load_merge, labelled=False)\n",
    "if translate is \"y\":\n",
    "    for geo_id in geo_ids:\n",
    "        g.translate_indices_df(geo_id, labelled=True)\n",
    "    for geo_id in unlabelled_geo_ids:\n",
    "        g.translate_indices_df(geo_id, labelled=False)\n",
    "\n",
    "#meta_df, unlabelled_meta_df = adapt_datasets(meta_df, unlabelled_meta_df)"
   ]
  },
  {
   "cell_type": "code",
   "execution_count": 11,
   "metadata": {},
   "outputs": [
    {
     "name": "stdout",
     "output_type": "stream",
     "text": [
      "vae_flavour o-sylvester\n",
      "a_dim (making sure it stays ok for ssl_vae) 0\n",
      "self.a_dim 0\n"
     ]
    },
    {
     "name": "stderr",
     "output_type": "stream",
     "text": [
      "/home/simon/anaconda3/lib/python3.6/site-packages/torch/nn/functional.py:52: UserWarning: size_average and reduce args will be deprecated, please use reduction='none' instead.\n",
      "  warnings.warn(warning.format(ret))\n"
     ]
    }
   ],
   "source": [
    "if ladder:\n",
    "    vae = LadderVariationalAutoencoder(vae_flavour, z_dims=z_dims, h_dims=h_dims, n_flows=number_of_flows,\n",
    "                                       num_elements=num_elements)\n",
    "    z_dim = z_dims[-1]\n",
    "elif vae_flavour in [\"o-sylvester\", \"h-sylvester\", \"t-sylvester\"]:\n",
    "    print(\"vae_flavour\", vae_flavour)\n",
    "    vae = SylvesterVAE(vae_flavour, z_dims=z_dims, h_dims=h_dims, n_flows=number_of_flows,\n",
    "                       num_elements=num_elements, auxiliary=False)\n",
    "else:\n",
    "    print(\"vae_flavour\", vae_flavour)\n",
    "    vae = VariationalAutoencoder(vae_flavour, z_dim=z_dims, h_dims=h_dims, n_flows=number_of_flows,\n",
    "                                 auxiliary=False, a_dim=0)\n"
   ]
  },
  {
   "cell_type": "code",
   "execution_count": 12,
   "metadata": {},
   "outputs": [],
   "source": [
    "vae.set_configs(home_path=home_path, results_folder=results_folder, data_folder=data_folder,\n",
    "               destination_folder=destination_folder, dataset_name=dataset_name, lr=lr,\n",
    "               meta_destination_folder=\"meta_pandas_dataframes\", csv_filename=\"csv_loggers\", is_unlabelled=True)"
   ]
  },
  {
   "cell_type": "code",
   "execution_count": 13,
   "metadata": {},
   "outputs": [
    {
     "name": "stdout",
     "output_type": "stream",
     "text": [
      "Labeled data shape (35371, 624) (35371, 624)\n",
      "unlabelled meta_df shape (35371, 2890)\n"
     ]
    }
   ],
   "source": [
    "print(\"Labeled data shape (35371, 624)\", meta_df.shape)\n",
    "print(\"unlabelled meta_df shape\", unlabelled_meta_df.shape)\n",
    "\n",
    "if meta_df is not None:\n",
    "    vae.import_dataframe(meta_df, batch_size, labelled=True)\n",
    "    vae.import_dataframe(unlabelled_meta_df, batch_size, labelled=False)"
   ]
  },
  {
   "cell_type": "code",
   "execution_count": 14,
   "metadata": {},
   "outputs": [
    {
     "name": "stdout",
     "output_type": "stream",
     "text": [
      "PCA saved at:  /home/simon//annleukemia/results/plots/\n"
     ]
    },
    {
     "data": {
      "image/png": "[encoded data removed]",
      "text/plain": [
       "<Figure size 576x576 with 1 Axes>"
      ]
     },
     "metadata": {},
     "output_type": "display_data"
    }
   ],
   "source": [
    "print(\"PCA saved at: \", plots_folder_path)\n",
    "ordination2d(meta_df, epoch=\"pre\", dataset_name=dataset_name, ord_type=\"pca\",\n",
    "             images_folder_path=plots_folder_path)\n",
    "\n"
   ]
  },
  {
   "cell_type": "code",
   "execution_count": 15,
   "metadata": {},
   "outputs": [
    {
     "name": "stdout",
     "output_type": "stream",
     "text": [
      "create model\n",
      "2890 unlabelled train samples\n",
      "499 train samples\n",
      "62 valid samples\n",
      "63 test samples\n",
      "624 total samples\n",
      "self.train_loader 4\n",
      "self.train_loader 128\n",
      "self.train_loader <torch.utils.data.sampler.RandomSampler object at 0x7f129aea7c88>\n"
     ]
    }
   ],
   "source": [
    "vae.define_configurations(vae_flavour, early_stopping=100, warmup=warmup, ladder=ladder, z_dim=z_dims[-1], auxiliary=False, ssl=False)\n",
    "vae.set_data(is_example=False, labels_per_class=labels_per_class)\n",
    "if ladder:\n",
    "    print(\"Setting ladder layers\")\n",
    "    vae.set_lvae_layers()\n",
    "else:\n",
    "    vae.set_vae_layers()\n",
    "\n",
    "if load_vae:\n",
    "    vae.load_model()\n"
   ]
  },
  {
   "cell_type": "code",
   "execution_count": 16,
   "metadata": {},
   "outputs": [
    {
     "name": "stdout",
     "output_type": "stream",
     "text": [
      "beta: 1.0\n",
      "Labelled 4\n"
     ]
    },
    {
     "name": "stderr",
     "output_type": "stream",
     "text": [
      "/home/simon/anaconda3/lib/python3.6/site-packages/torch/tensor.py:263: UserWarning: non-inplace resize is deprecated\n",
      "  warnings.warn(\"non-inplace resize is deprecated\")\n"
     ]
    },
    {
     "name": "stdout",
     "output_type": "stream",
     "text": [
      "Unlabelled: 23\n",
      "EVALUATION!\n",
      "BEST EVALUATION LOSS: SAVING MODEL\n",
      "MODEL SAVED AT LOCATION: /home/simon//annleukemia/results/models/history/\n",
      "Epoch: 0/100, Time elapsed: 6.31478810s\n",
      "* Train loss: 3691.84683990   (re: 3639.06487274, kl: 52.78199732)\n",
      "o Val.  loss: 547.04022217   (re: 540.06292725, kl: 6.97731304)\n",
      "--> Early stopping: 0/100 (BEST: 100000.00000000)\n",
      "\n",
      "beta: 1.0\n",
      "Labelled 4\n",
      "Unlabelled: 23\n",
      "EVALUATION!\n",
      "Epoch: 1/100, Time elapsed: 1.49710846s\n",
      "* Train loss: 3677.05345917   (re: 3622.67530823, kl: 54.37820029)\n",
      "o Val.  loss: 549.02056885   (re: 541.42114258, kl: 7.59949160)\n",
      "--> Early stopping: 1/100 (BEST: 100000.00000000)\n",
      "\n",
      "MODEL SAVED AT LOCATION: /home/simon//annleukemia/results/models/history/\n",
      "beta: 1.0\n",
      "Labelled 4\n",
      "Unlabelled: 23\n",
      "EVALUATION!\n",
      "BEST EVALUATION LOSS: SAVING MODEL\n",
      "MODEL SAVED AT LOCATION: /home/simon//annleukemia/results/models/history/\n",
      "Epoch: 2/100, Time elapsed: 1.51505661s\n",
      "* Train loss: 3631.79994202   (re: 3578.10433960, kl: 53.69570124)\n",
      "o Val.  loss: 545.43420410   (re: 536.23986816, kl: 9.19432259)\n",
      "--> Early stopping: 0/100 (BEST: 549.02056885)\n",
      "\n",
      "MODEL SAVED AT LOCATION: /home/simon//annleukemia/results/models/history/\n",
      "beta: 1.0\n",
      "Labelled 4\n",
      "Unlabelled: 23\n",
      "EVALUATION!\n",
      "BEST EVALUATION LOSS: SAVING MODEL\n",
      "MODEL SAVED AT LOCATION: /home/simon//annleukemia/results/models/history/\n",
      "Epoch: 3/100, Time elapsed: 1.47713113s\n",
      "* Train loss: 3594.96160889   (re: 3541.42418671, kl: 53.53744912)\n",
      "o Val.  loss: 543.11450195   (re: 533.56402588, kl: 9.55043316)\n",
      "--> Early stopping: 0/100 (BEST: 545.43420410)\n",
      "\n",
      "MODEL SAVED AT LOCATION: /home/simon//annleukemia/results/models/history/\n",
      "beta: 1.0\n",
      "Labelled 4\n",
      "Unlabelled: 23\n",
      "EVALUATION!\n",
      "BEST EVALUATION LOSS: SAVING MODEL\n",
      "MODEL SAVED AT LOCATION: /home/simon//annleukemia/results/models/history/\n",
      "Epoch: 4/100, Time elapsed: 1.80550861s\n",
      "* Train loss: 3553.46672821   (re: 3499.44299316, kl: 54.02376783)\n",
      "o Val.  loss: 537.69488525   (re: 528.99267578, kl: 8.70219994)\n",
      "--> Early stopping: 0/100 (BEST: 543.11450195)\n",
      "\n",
      "MODEL SAVED AT LOCATION: /home/simon//annleukemia/results/models/history/\n",
      "beta: 1.0\n",
      "Labelled 4\n",
      "Unlabelled: 23\n",
      "EVALUATION!\n",
      "BEST EVALUATION LOSS: SAVING MODEL\n",
      "MODEL SAVED AT LOCATION: /home/simon//annleukemia/results/models/history/\n",
      "Epoch: 5/100, Time elapsed: 1.65195632s\n",
      "* Train loss: 3519.41132355   (re: 3467.76127625, kl: 51.65004659)\n",
      "o Val.  loss: 525.94464111   (re: 518.23889160, kl: 7.70564079)\n",
      "--> Early stopping: 0/100 (BEST: 537.69488525)\n",
      "\n",
      "MODEL SAVED AT LOCATION: /home/simon//annleukemia/results/models/history/\n",
      "beta: 1.0\n",
      "Labelled 4\n",
      "Unlabelled: 23\n",
      "EVALUATION!\n",
      "BEST EVALUATION LOSS: SAVING MODEL\n",
      "MODEL SAVED AT LOCATION: /home/simon//annleukemia/results/models/history/\n",
      "Epoch: 6/100, Time elapsed: 1.48748899s\n",
      "* Train loss: 3493.23497772   (re: 3441.52330780, kl: 51.71168756)\n",
      "o Val.  loss: 523.99377441   (re: 515.22717285, kl: 8.76659966)\n",
      "--> Early stopping: 0/100 (BEST: 525.94464111)\n",
      "\n",
      "MODEL SAVED AT LOCATION: /home/simon//annleukemia/results/models/history/\n",
      "beta: 1.0\n",
      "Labelled 4\n",
      "Unlabelled: 23\n",
      "EVALUATION!\n",
      "BEST EVALUATION LOSS: SAVING MODEL\n",
      "MODEL SAVED AT LOCATION: /home/simon//annleukemia/results/models/history/\n",
      "Epoch: 7/100, Time elapsed: 1.51749158s\n",
      "* Train loss: 3448.37062836   (re: 3396.58695221, kl: 51.78360927)\n",
      "o Val.  loss: 516.11096191   (re: 507.87829590, kl: 8.23262882)\n",
      "--> Early stopping: 0/100 (BEST: 523.99377441)\n",
      "\n",
      "MODEL SAVED AT LOCATION: /home/simon//annleukemia/results/models/history/\n",
      "beta: 1.0\n",
      "Labelled 4\n",
      "Unlabelled: 23\n",
      "EVALUATION!\n",
      "BEST EVALUATION LOSS: SAVING MODEL\n",
      "MODEL SAVED AT LOCATION: /home/simon//annleukemia/results/models/history/\n",
      "Epoch: 8/100, Time elapsed: 1.58669472s\n",
      "* Train loss: 3443.32728577   (re: 3391.02673340, kl: 52.30059421)\n",
      "o Val.  loss: 513.11401367   (re: 505.85327148, kl: 7.26082754)\n",
      "--> Early stopping: 0/100 (BEST: 516.11096191)\n",
      "\n",
      "MODEL SAVED AT LOCATION: /home/simon//annleukemia/results/models/history/\n",
      "beta: 1.0\n",
      "Labelled 4\n",
      "Unlabelled: 23\n",
      "EVALUATION!\n",
      "BEST EVALUATION LOSS: SAVING MODEL\n",
      "MODEL SAVED AT LOCATION: /home/simon//annleukemia/results/models/history/\n",
      "Epoch: 9/100, Time elapsed: 1.50168538s\n",
      "* Train loss: 3398.85603333   (re: 3346.19662476, kl: 52.65944028)\n",
      "o Val.  loss: 507.72778320   (re: 500.04232788, kl: 7.68543863)\n",
      "--> Early stopping: 0/100 (BEST: 513.11401367)\n",
      "\n",
      "MODEL SAVED AT LOCATION: /home/simon//annleukemia/results/models/history/\n",
      "beta: 1.0\n",
      "Labelled 4\n",
      "Unlabelled: 23\n",
      "EVALUATION!\n",
      "BEST EVALUATION LOSS: SAVING MODEL\n",
      "MODEL SAVED AT LOCATION: /home/simon//annleukemia/results/models/history/\n",
      "Epoch: 10/100, Time elapsed: 1.50232005s\n",
      "* Train loss: 3375.81094360   (re: 3323.30523682, kl: 52.50576496)\n",
      "o Val.  loss: 504.39825439   (re: 497.24743652, kl: 7.15090322)\n",
      "--> Early stopping: 0/100 (BEST: 507.72778320)\n",
      "\n",
      "MODEL SAVED AT LOCATION: /home/simon//annleukemia/results/models/history/\n",
      "beta: 1.0\n",
      "Labelled 4\n",
      "Unlabelled: 23\n"
     ]
    },
    {
     "ename": "KeyboardInterrupt",
     "evalue": "",
     "output_type": "error",
     "traceback": [
      "\u001b[0;31m---------------------------------------------------------------------------\u001b[0m",
      "\u001b[0;31mKeyboardInterrupt\u001b[0m                         Traceback (most recent call last)",
      "\u001b[0;32m<ipython-input-16-743754b43a14>\u001b[0m in \u001b[0;36m<module>\u001b[0;34m()\u001b[0m\n\u001b[0;32m----> 1\u001b[0;31m \u001b[0mvae\u001b[0m\u001b[0;34m.\u001b[0m\u001b[0mrun\u001b[0m\u001b[0;34m(\u001b[0m\u001b[0mepochs\u001b[0m\u001b[0;34m=\u001b[0m\u001b[0mn_epochs\u001b[0m\u001b[0;34m,\u001b[0m \u001b[0mclip_grad\u001b[0m\u001b[0;34m=\u001b[0m\u001b[0;36m1e-4\u001b[0m\u001b[0;34m)\u001b[0m\u001b[0;34m\u001b[0m\u001b[0m\n\u001b[0m",
      "\u001b[0;32m~/annleukemia/models/generative/autoencoders/autoencoder.py\u001b[0m in \u001b[0;36mrun\u001b[0;34m(self, epochs, clip_grad)\u001b[0m\n\u001b[1;32m    157\u001b[0m             \u001b[0mself\u001b[0m\u001b[0;34m.\u001b[0m\u001b[0mzs_train\u001b[0m \u001b[0;34m=\u001b[0m \u001b[0;34m[\u001b[0m\u001b[0;34m]\u001b[0m\u001b[0;34m\u001b[0m\u001b[0m\n\u001b[1;32m    158\u001b[0m             \u001b[0mtime_start\u001b[0m \u001b[0;34m=\u001b[0m \u001b[0mtime\u001b[0m\u001b[0;34m.\u001b[0m\u001b[0mtime\u001b[0m\u001b[0;34m(\u001b[0m\u001b[0;34m)\u001b[0m\u001b[0;34m\u001b[0m\u001b[0m\n\u001b[0;32m--> 159\u001b[0;31m             \u001b[0mtrain_loss_epoch\u001b[0m\u001b[0;34m,\u001b[0m \u001b[0mtrain_rec_epoch\u001b[0m\u001b[0;34m,\u001b[0m \u001b[0mtrain_kl_epoch\u001b[0m \u001b[0;34m=\u001b[0m \u001b[0mself\u001b[0m\u001b[0;34m.\u001b[0m\u001b[0mtrain_vae\u001b[0m\u001b[0;34m(\u001b[0m\u001b[0mepoch\u001b[0m\u001b[0;34m,\u001b[0m \u001b[0mclip_grad\u001b[0m\u001b[0;34m)\u001b[0m\u001b[0;34m\u001b[0m\u001b[0m\n\u001b[0m\u001b[1;32m    160\u001b[0m \u001b[0;34m\u001b[0m\u001b[0m\n\u001b[1;32m    161\u001b[0m             \u001b[0mval_loss_epoch\u001b[0m\u001b[0;34m,\u001b[0m \u001b[0mval_rec_epoch\u001b[0m\u001b[0;34m,\u001b[0m \u001b[0mval_kl_epoch\u001b[0m \u001b[0;34m=\u001b[0m \u001b[0mself\u001b[0m\u001b[0;34m.\u001b[0m\u001b[0mevaluate_vae\u001b[0m\u001b[0;34m(\u001b[0m\u001b[0mmode\u001b[0m\u001b[0;34m=\u001b[0m\u001b[0;34m'validation'\u001b[0m\u001b[0;34m)\u001b[0m\u001b[0;34m\u001b[0m\u001b[0m\n",
      "\u001b[0;32m~/annleukemia/models/generative/autoencoders/autoencoder.py\u001b[0m in \u001b[0;36mtrain_vae\u001b[0;34m(self, epoch, clip_grad)\u001b[0m\n\u001b[1;32m    260\u001b[0m                 \u001b[0;32mpass\u001b[0m\u001b[0;34m\u001b[0m\u001b[0m\n\u001b[1;32m    261\u001b[0m \u001b[0;34m\u001b[0m\u001b[0m\n\u001b[0;32m--> 262\u001b[0;31m             \u001b[0mself\u001b[0m\u001b[0;34m.\u001b[0m\u001b[0moptimizer\u001b[0m\u001b[0;34m.\u001b[0m\u001b[0mstep\u001b[0m\u001b[0;34m(\u001b[0m\u001b[0;34m)\u001b[0m\u001b[0;34m\u001b[0m\u001b[0m\n\u001b[0m\u001b[1;32m    263\u001b[0m             \u001b[0;31m# optimization\u001b[0m\u001b[0;34m\u001b[0m\u001b[0;34m\u001b[0m\u001b[0m\n\u001b[1;32m    264\u001b[0m             \u001b[0mtrain_loss\u001b[0m \u001b[0;34m+=\u001b[0m \u001b[0mloss\u001b[0m\u001b[0;34m.\u001b[0m\u001b[0mitem\u001b[0m\u001b[0;34m(\u001b[0m\u001b[0;34m)\u001b[0m\u001b[0;34m\u001b[0m\u001b[0m\n",
      "\u001b[0;32m~/anaconda3/lib/python3.6/site-packages/torch/optim/adam.py\u001b[0m in \u001b[0;36mstep\u001b[0;34m(self, closure)\u001b[0m\n\u001b[1;32m     90\u001b[0m \u001b[0;34m\u001b[0m\u001b[0m\n\u001b[1;32m     91\u001b[0m                 \u001b[0;31m# Decay the first and second moment running average coefficient\u001b[0m\u001b[0;34m\u001b[0m\u001b[0;34m\u001b[0m\u001b[0m\n\u001b[0;32m---> 92\u001b[0;31m                 \u001b[0mexp_avg\u001b[0m\u001b[0;34m.\u001b[0m\u001b[0mmul_\u001b[0m\u001b[0;34m(\u001b[0m\u001b[0mbeta1\u001b[0m\u001b[0;34m)\u001b[0m\u001b[0;34m.\u001b[0m\u001b[0madd_\u001b[0m\u001b[0;34m(\u001b[0m\u001b[0;36m1\u001b[0m \u001b[0;34m-\u001b[0m \u001b[0mbeta1\u001b[0m\u001b[0;34m,\u001b[0m \u001b[0mgrad\u001b[0m\u001b[0;34m)\u001b[0m\u001b[0;34m\u001b[0m\u001b[0m\n\u001b[0m\u001b[1;32m     93\u001b[0m                 \u001b[0mexp_avg_sq\u001b[0m\u001b[0;34m.\u001b[0m\u001b[0mmul_\u001b[0m\u001b[0;34m(\u001b[0m\u001b[0mbeta2\u001b[0m\u001b[0;34m)\u001b[0m\u001b[0;34m.\u001b[0m\u001b[0maddcmul_\u001b[0m\u001b[0;34m(\u001b[0m\u001b[0;36m1\u001b[0m \u001b[0;34m-\u001b[0m \u001b[0mbeta2\u001b[0m\u001b[0;34m,\u001b[0m \u001b[0mgrad\u001b[0m\u001b[0;34m,\u001b[0m \u001b[0mgrad\u001b[0m\u001b[0;34m)\u001b[0m\u001b[0;34m\u001b[0m\u001b[0m\n\u001b[1;32m     94\u001b[0m                 \u001b[0;32mif\u001b[0m \u001b[0mamsgrad\u001b[0m\u001b[0;34m:\u001b[0m\u001b[0;34m\u001b[0m\u001b[0m\n",
      "\u001b[0;31mKeyboardInterrupt\u001b[0m: "
     ]
    }
   ],
   "source": [
    "vae.run(epochs=n_epochs, clip_grad=1e-4)"
   ]
  },
  {
   "cell_type": "markdown",
   "metadata": {},
   "source": [
    "References\n",
    "Auto-Encoding Variational Bayes https://arxiv.org/abs/1312.6114\n",
    "Semi-Supervised Learning with Deep Generative Models https://arxiv.org/abs/1406.5298\n",
    "Ladder Variational Autoencoders https://arxiv.org/abs/1602.02282\n",
    "Auxiliary Deep Generative Models    https://arxiv.org/abs/1602.05473\n",
    "Sylvester Normalizing Flows for Variational Inference  https://arxiv.org/abs/1803.05649\n",
    "Improving Variational Auto-Encoders using Householder Flow https://arxiv.org/abs/1611.09630\n",
    "Variational Inference with Normalizing Flows https://arxiv.org/abs/1505.05770\n",
    "Convex combination linear IAF and the Householder Flow, J.M. Tomczak & M. Welling https://jmtomczak.github.io/deebmed.html"
   ]
  },
  {
   "cell_type": "markdown",
   "metadata": {},
   "source": [
    "Github Ressources:\n",
    "    https://github.com/wohlert/semi-supervised-pytorch\n",
    "    https://github.com/jmtomczak/vae_vpflows\n",
    "    https://github.com/jmtomczak/vae_householder_flow"
   ]
  },
  {
   "cell_type": "raw",
   "metadata": {},
   "source": [
    "TO DO:\n",
    "    Calculate negative log-likelihood (to be maximized)\n",
    "    Get ordinations for all_samples AND generated samples in the SAME plot; \n",
    "        (make them the same color, but only the genwerated with a black contour, \n",
    "        or the opposite, or different contours)\n",
    "    Add Inverse Autoregressive Flow for variational inference (IAF; very common and apparently good; \n",
    "        the base for other flavours, such as sylvester flows (to be verified)) "
   ]
  },
  {
   "cell_type": "code",
   "execution_count": null,
   "metadata": {
    "scrolled": false
   },
   "outputs": [],
   "source": []
  },
  {
   "cell_type": "code",
   "execution_count": null,
   "metadata": {
    "scrolled": false
   },
   "outputs": [],
   "source": []
  },
  {
   "cell_type": "code",
   "execution_count": null,
   "metadata": {},
   "outputs": [],
   "source": []
  },
  {
   "cell_type": "code",
   "execution_count": null,
   "metadata": {},
   "outputs": [],
   "source": []
  }
 ],
 "metadata": {
  "kernelspec": {
   "display_name": "PyCharm (GeoDataPreparation-master)",
   "language": "python",
   "name": "pycharm-8b38986"
  },
  "language_info": {
   "codemirror_mode": {
    "name": "ipython",
    "version": 3
   },
   "file_extension": ".py",
   "mimetype": "text/x-python",
   "name": "python",
   "nbconvert_exporter": "python",
   "pygments_lexer": "ipython3",
   "version": "3.6.2"
  }
 },
 "nbformat": 4,
 "nbformat_minor": 2
}
